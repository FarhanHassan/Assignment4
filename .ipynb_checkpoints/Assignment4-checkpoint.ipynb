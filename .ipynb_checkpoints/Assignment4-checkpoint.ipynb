{
 "cells": [
  {
   "cell_type": "markdown",
   "id": "00a73b87-823f-4c7b-a0f8-5b3b37f1ac5a",
   "metadata": {},
   "source": [
    "# 4-1. Guest List:"
   ]
  },
  {
   "cell_type": "code",
   "execution_count": 139,
   "id": "b0050769-0c6d-4a5f-84a1-bbd83411c86d",
   "metadata": {},
   "outputs": [
    {
     "name": "stdout",
     "output_type": "stream",
     "text": [
      "Ali invites to a dinner.\n",
      "Usama invites to a dinner.\n",
      "Rizwan invites to a dinner.\n"
     ]
    }
   ],
   "source": [
    "# Add three guest\n",
    "guest=[\"Ali\",\"Usama\",\"Rizwan\"]\n",
    "print(guest[0]+ \" invites to a dinner.\")\n",
    "print(guest[1]+ \" invites to a dinner.\")\n",
    "print(guest[2]+ \" invites to a dinner.\")"
   ]
  },
  {
   "cell_type": "markdown",
   "id": "b4aa0eeb-7213-49ac-b621-78521f492c99",
   "metadata": {},
   "source": [
    "# 4-2. Changing Guest List: "
   ]
  },
  {
   "cell_type": "code",
   "execution_count": 141,
   "id": "a3115edb-3c15-41fd-ba6d-74c61b3e77b6",
   "metadata": {},
   "outputs": [
    {
     "name": "stdout",
     "output_type": "stream",
     "text": [
      "Usama can't make the dinner.\n"
     ]
    }
   ],
   "source": [
    "#One Guest can't make dinner\n",
    "print( guest[1] + \" can't make the dinner.\")\n",
    "#So remove one guest\n",
    "guest.remove(\"Usama\")"
   ]
  },
  {
   "cell_type": "code",
   "execution_count": 142,
   "id": "664690ba-b6b3-4608-8e6c-3322657b7a98",
   "metadata": {},
   "outputs": [
    {
     "data": {
      "text/plain": [
       "['Ali', 'Rizwan', 'Zain']"
      ]
     },
     "execution_count": 142,
     "metadata": {},
     "output_type": "execute_result"
    }
   ],
   "source": [
    "# Add new guest\n",
    "guest.append(\"Zain\")\n",
    "guest"
   ]
  },
  {
   "cell_type": "code",
   "execution_count": 143,
   "id": "4997a0b9-29d7-480a-a2e9-9e4069ae2512",
   "metadata": {},
   "outputs": [
    {
     "name": "stdout",
     "output_type": "stream",
     "text": [
      "Ali invites to a dinner.\n",
      "Rizwan invites to a dinner.\n",
      "Zain invites to a dinner.\n"
     ]
    }
   ],
   "source": [
    "# Print a second set of invitation messages\n",
    "print(guest[0]+ \" invites to a dinner.\")\n",
    "print(guest[1]+ \" invites to a dinner.\")\n",
    "print(guest[2]+ \" invites to a dinner.\")"
   ]
  },
  {
   "cell_type": "markdown",
   "id": "8a56d6b6-8336-48d5-b88e-02f78dc75c23",
   "metadata": {},
   "source": [
    "# 4-3. More Guests:"
   ]
  },
  {
   "cell_type": "code",
   "execution_count": 145,
   "id": "9e4bc22a-83db-4e64-a7f7-3f2d14781a44",
   "metadata": {},
   "outputs": [
    {
     "data": {
      "text/plain": [
       "['Ali', 'Rizwan', 'Zain']"
      ]
     },
     "execution_count": 145,
     "metadata": {},
     "output_type": "execute_result"
    }
   ],
   "source": [
    "guest"
   ]
  },
  {
   "cell_type": "code",
   "execution_count": 146,
   "id": "a4a8231f-b12e-4e70-837b-7cdc96d4e60c",
   "metadata": {},
   "outputs": [
    {
     "name": "stdout",
     "output_type": "stream",
     "text": [
      "Azam invites to a dinner.\n",
      "Ali invites to a dinner.\n",
      "Tariq invites to a dinner.\n",
      "Rizwan invites to a dinner.\n",
      "Zain invites to a dinner.\n",
      "Ahsan invites to a dinner.\n"
     ]
    }
   ],
   "source": [
    "# Add a guest to the beginning of your list. \n",
    "guest.insert(0,\"Azam\")\n",
    "# Add a guest to the middle of your list.  \n",
    "guest.insert(2,\"Tariq\")\n",
    "# Add a guest to the End of your list.\n",
    "guest.append(\"Ahsan\")\n",
    "#New set of invitation messages\n",
    "for a in guest:\n",
    "    print(f\"{a} invites to a dinner.\")"
   ]
  },
  {
   "cell_type": "markdown",
   "id": "dab55512-7603-4294-b69a-89de93c6ebc7",
   "metadata": {},
   "source": [
    "# 4-4. Shrinking Guest List:"
   ]
  },
  {
   "cell_type": "code",
   "execution_count": 148,
   "id": "ab49f04c-a7f7-465a-9bb8-cf1929e5b0e3",
   "metadata": {},
   "outputs": [
    {
     "data": {
      "text/plain": [
       "['Azam', 'Ali', 'Tariq', 'Rizwan', 'Zain', 'Ahsan']"
      ]
     },
     "execution_count": 148,
     "metadata": {},
     "output_type": "execute_result"
    }
   ],
   "source": [
    "guest"
   ]
  },
  {
   "cell_type": "code",
   "execution_count": 149,
   "id": "2c87b320-9416-4a55-bc9d-e44e13796e3b",
   "metadata": {},
   "outputs": [
    {
     "name": "stdout",
     "output_type": "stream",
     "text": [
      "I am invite only two people for dinner. \n",
      "Tariq is not invited.\n",
      "Rizwan is not invited.\n",
      "Zain is not invited.\n",
      "Ahsan is not invited.\n"
     ]
    }
   ],
   "source": [
    "print(\"I am invite only two people for dinner. \")\n",
    "#Use pop funtion to remove guest\n",
    "print(f\"{guest.pop(2)} is not invited.\")\n",
    "print(f\"{guest.pop(2)} is not invited.\")\n",
    "print(f\"{guest.pop(2)} is not invited.\")\n",
    "print(f\"{guest.pop(2)} is not invited.\")"
   ]
  },
  {
   "cell_type": "code",
   "execution_count": 150,
   "id": "f9909466-13b5-4b15-84e2-c3c5756bdcbf",
   "metadata": {},
   "outputs": [
    {
     "data": {
      "text/plain": [
       "['Azam', 'Ali']"
      ]
     },
     "execution_count": 150,
     "metadata": {},
     "output_type": "execute_result"
    }
   ],
   "source": [
    "guest"
   ]
  },
  {
   "cell_type": "code",
   "execution_count": 151,
   "id": "c08f8ffd-e0c1-4a4a-b400-719ffa5dcfca",
   "metadata": {},
   "outputs": [
    {
     "name": "stdout",
     "output_type": "stream",
     "text": [
      "Azam, is still invited for dinner\n",
      "Ali, is still invited for dinner\n"
     ]
    }
   ],
   "source": [
    "#The names of guest who are not invited\n",
    "print(f\"{guest[0]}, is still invited for dinner\")\n",
    "print(f\"{guest[1]}, is still invited for dinner\")"
   ]
  },
  {
   "cell_type": "code",
   "execution_count": 152,
   "id": "f2cb3884-a7d6-4900-9cdb-dcdb67784a51",
   "metadata": {},
   "outputs": [
    {
     "name": "stdout",
     "output_type": "stream",
     "text": [
      "[],List is Empty\n"
     ]
    }
   ],
   "source": [
    "#an empty list at the end of your program.\n",
    "guest.remove(\"Azam\")\n",
    "guest.pop(0)\n",
    "print(f\"{guest},List is Empty\")"
   ]
  },
  {
   "cell_type": "markdown",
   "id": "e4bb4d36-ca46-4186-94ea-7dbf60e83c9b",
   "metadata": {},
   "source": [
    "# 4-5.Indexing and Slicing operations on List. "
   ]
  },
  {
   "cell_type": "code",
   "execution_count": 4,
   "id": "832de9eb-ab00-4d88-bdbb-170b981d3c55",
   "metadata": {},
   "outputs": [
    {
     "data": {
      "text/plain": [
       "['Italy',\n",
       " 'USA',\n",
       " 'India',\n",
       " 'Pakistan',\n",
       " 'Srilanka',\n",
       " 'Brazil',\n",
       " 'Saudi',\n",
       " 'Iran',\n",
       " 'Afghanistan']"
      ]
     },
     "execution_count": 4,
     "metadata": {},
     "output_type": "execute_result"
    }
   ],
   "source": [
    "countries=[\"Italy\",\"USA\",\"India\",\"Pakistan\",\"Srilanka\",\"Brazil\",\"Saudi\",\"Iran\",\"Afghanistan\"]\n",
    "countries"
   ]
  },
  {
   "cell_type": "code",
   "execution_count": 10,
   "id": "8bb4d792-68ac-4cd4-842f-1dd9d9a835ec",
   "metadata": {},
   "outputs": [
    {
     "name": "stdout",
     "output_type": "stream",
     "text": [
      "Italy\n",
      "Afghanistan\n",
      "India\n",
      "Iran\n"
     ]
    }
   ],
   "source": [
    "#Indexing\n",
    "#First Country\n",
    "print(countries[0])\n",
    "#Last Country\n",
    "print(countries[-1])\n",
    "#Third Country\n",
    "print(countries[2])\n",
    "#Second Last Country\n",
    "print(countries[-2])"
   ]
  },
  {
   "cell_type": "code",
   "execution_count": 28,
   "id": "05f88ddb-17a1-4d82-b550-3fe574f9e38d",
   "metadata": {},
   "outputs": [
    {
     "name": "stdout",
     "output_type": "stream",
     "text": [
      "['USA', 'India', 'Pakistan']\n",
      "['Iran', 'Afghanistan']\n",
      "['Afghanistan', 'Iran', 'Saudi', 'Brazil', 'Srilanka', 'Pakistan', 'India', 'USA', 'Italy']\n",
      "['Italy', 'India', 'Srilanka', 'Saudi', 'Afghanistan']\n"
     ]
    }
   ],
   "source": [
    "#Slicing\n",
    "#First Three Contries\n",
    "print(countries[1:4])\n",
    "#Last Two Contries\n",
    "print(countries[-2:])\n",
    "#Revers \n",
    "print(countries[::-1])\n",
    "#Skip Every Second Country\n",
    "print(countries[0:9:2])"
   ]
  }
 ],
 "metadata": {
  "kernelspec": {
   "display_name": "Python 3 (ipykernel)",
   "language": "python",
   "name": "python3"
  },
  "language_info": {
   "codemirror_mode": {
    "name": "ipython",
    "version": 3
   },
   "file_extension": ".py",
   "mimetype": "text/x-python",
   "name": "python",
   "nbconvert_exporter": "python",
   "pygments_lexer": "ipython3",
   "version": "3.12.4"
  }
 },
 "nbformat": 4,
 "nbformat_minor": 5
}
